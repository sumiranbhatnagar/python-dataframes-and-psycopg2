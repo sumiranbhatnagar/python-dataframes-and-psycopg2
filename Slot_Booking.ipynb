{
 "cells": [
  {
   "cell_type": "code",
   "execution_count": 1,
   "id": "899960c1",
   "metadata": {},
   "outputs": [],
   "source": [
    "\n",
    "#enter subject name\n",
    "#teacher - and slots for tht subject \n",
    "#select slots \n",
    "#entered data #removed from av_tble  "
   ]
  },
  {
   "cell_type": "code",
   "execution_count": 2,
   "id": "4a09ccae",
   "metadata": {},
   "outputs": [],
   "source": [
    "import psycopg2"
   ]
  },
  {
   "cell_type": "code",
   "execution_count": 3,
   "id": "6c981c19",
   "metadata": {},
   "outputs": [],
   "source": [
    "conn = psycopg2.connect(\"host='localhost' port='5432' dbname='sumiran' user='postgres' password='SUMIran'\")\n",
    "cur = conn.cursor()\n",
    "subject=dict()"
   ]
  },
  {
   "cell_type": "code",
   "execution_count": 4,
   "id": "e4f99348",
   "metadata": {},
   "outputs": [
    {
     "name": "stdout",
     "output_type": "stream",
     "text": [
      "press enter to select subject\n",
      "{'1': 'physics', '2': 'chemistry', '3': 'maths', '4': 'english', '5': 'hindi', '6': 'arts'}3\n"
     ]
    }
   ],
   "source": [
    "cur.execute(\"select * from subject_table\")\n",
    "d2 = cur.fetchall()\n",
    "#print(d2)\n",
    "\n",
    "for i in range (0 ,len(d2)):\n",
    "    subject[d2[i][0]]= d2[i][1]\n",
    "print('press enter to select subject')   \n",
    "subject_code = input(subject)\n",
    "    "
   ]
  },
  {
   "cell_type": "code",
   "execution_count": 5,
   "id": "462d2e27",
   "metadata": {},
   "outputs": [
    {
     "name": "stdout",
     "output_type": "stream",
     "text": [
      "0 ('21', '3', datetime.time(14, 0), datetime.time(15, 0), 'Monday', '18')\n",
      "1 ('21', '3', datetime.time(11, 0), datetime.time(12, 0), 'Tuesday', '19')\n",
      "2 ('21', '3', datetime.time(11, 0), datetime.time(12, 0), 'Wednesday', '20')\n",
      "3 ('21', '3', datetime.time(12, 0), datetime.time(13, 0), 'Wednesday', '21')\n",
      "4 ('21', '3', datetime.time(13, 0), datetime.time(14, 0), 'Wednesday', '22')\n",
      "select the slot number for the slot2\n"
     ]
    }
   ],
   "source": [
    "cur.execute(\"select * from av2 where subject_id = %s\" ,str(subject_code))\n",
    "d3 = cur.fetchall()\n",
    "for n in range (0,len(d3)):\n",
    "    print( n, d3[n])\n",
    "slot_number = input('select the slot number for the slot')\n"
   ]
  },
  {
   "cell_type": "code",
   "execution_count": 6,
   "id": "ef08ff04",
   "metadata": {},
   "outputs": [
    {
     "name": "stdout",
     "output_type": "stream",
     "text": [
      "20\n"
     ]
    }
   ],
   "source": [
    "stc = d3[2][5]\n",
    "print(stc)\n",
    "cur.execute(\"DELETE FROM av2 WHERE status = %s\", (stc,))\n",
    "conn.commit()\n"
   ]
  },
  {
   "cell_type": "code",
   "execution_count": null,
   "id": "cacf4894",
   "metadata": {},
   "outputs": [],
   "source": []
  },
  {
   "cell_type": "code",
   "execution_count": null,
   "id": "94024bc0",
   "metadata": {},
   "outputs": [],
   "source": []
  }
 ],
 "metadata": {
  "kernelspec": {
   "display_name": "Python 3",
   "language": "python",
   "name": "python3"
  },
  "language_info": {
   "codemirror_mode": {
    "name": "ipython",
    "version": 3
   },
   "file_extension": ".py",
   "mimetype": "text/x-python",
   "name": "python",
   "nbconvert_exporter": "python",
   "pygments_lexer": "ipython3",
   "version": "3.8.5"
  }
 },
 "nbformat": 4,
 "nbformat_minor": 5
}
