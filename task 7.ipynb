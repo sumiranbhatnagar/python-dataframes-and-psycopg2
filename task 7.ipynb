{
 "cells": [
  {
   "cell_type": "code",
   "execution_count": 1,
   "id": "8adb1195",
   "metadata": {},
   "outputs": [],
   "source": [
    "#task is to update from excel sheets slot and days into ew teacher slot table where \n",
    "#we will be haing only teachers key not subject id , subject name will reurn teacher id and that id will be added "
   ]
  },
  {
   "cell_type": "code",
   "execution_count": 2,
   "id": "48775c37",
   "metadata": {},
   "outputs": [],
   "source": [
    "#teacher_id returns subject name \n",
    "#>>teacher_id>subject_id>subject_name ;\n",
    "#teacher_id has assingened day and slot ;\n",
    "#we have to add subject to it and add to the sql table;\n",
    "#break the slot using time ddelta\n",
    "#take teacher id and subject id from teachers name\n",
    "\n"
   ]
  },
  {
   "cell_type": "code",
   "execution_count": null,
   "id": "079cf745",
   "metadata": {},
   "outputs": [],
   "source": []
  },
  {
   "cell_type": "code",
   "execution_count": 5,
   "id": "d6f2054d",
   "metadata": {},
   "outputs": [
    {
     "ename": "NameError",
     "evalue": "name 'subject_code' is not defined",
     "output_type": "error",
     "traceback": [
      "\u001b[1;31m---------------------------------------------------------------------------\u001b[0m",
      "\u001b[1;31mNameError\u001b[0m                                 Traceback (most recent call last)",
      "\u001b[1;32m<ipython-input-5-f3e34480b8f1>\u001b[0m in \u001b[0;36m<module>\u001b[1;34m\u001b[0m\n\u001b[0;32m     26\u001b[0m     \u001b[0mprint\u001b[0m\u001b[1;33m(\u001b[0m\u001b[0mdata1\u001b[0m\u001b[1;33m)\u001b[0m\u001b[1;33m\u001b[0m\u001b[1;33m\u001b[0m\u001b[0m\n\u001b[0;32m     27\u001b[0m \u001b[1;33m\u001b[0m\u001b[0m\n\u001b[1;32m---> 28\u001b[1;33m \u001b[0msubject_name\u001b[0m\u001b[1;33m(\u001b[0m\u001b[0mdata1\u001b[0m\u001b[1;33m[\u001b[0m \u001b[0msubject_code\u001b[0m\u001b[1;33m]\u001b[0m\u001b[1;33m)\u001b[0m\u001b[1;33m\u001b[0m\u001b[1;33m\u001b[0m\u001b[0m\n\u001b[0m",
      "\u001b[1;31mNameError\u001b[0m: name 'subject_code' is not defined"
     ]
    }
   ],
   "source": [
    "#finding subject name from subject id \n",
    "\n",
    "\n",
    "import psycopg2\n",
    "import csv\n",
    "conn = psycopg2.connect(\"host='localhost' port='5432' dbname='postgres' user='postgres' password='SUMIran'\")\n",
    "cur = conn.cursor()\n",
    "\n",
    "data1 = dict()  \n",
    "\n",
    "def subject_name(subject_code):\n",
    "    \n",
    "    with open('slot_table.csv', 'r') as f:\n",
    "        reader = csv.reader(f)\n",
    "        next(reader) # Skip the header row.\n",
    "        for row in reader:\n",
    "            #saving batch table as dict\n",
    "\n",
    "                    cur.execute(\"select * from subject_table\")\n",
    "                    datum1 = cur.fetchall()\n",
    "\n",
    "    print(datum1)               \n",
    "\n",
    "    for i in range (0 ,len(datum1)):\n",
    "        data1[datum1[i][0]]= datum1[i][1]\n",
    "    print(data1)\n",
    "    \n",
    "subject_name(data1[ subject_code])"
   ]
  },
  {
   "cell_type": "code",
   "execution_count": null,
   "id": "b7f66aac",
   "metadata": {},
   "outputs": [],
   "source": []
  },
  {
   "cell_type": "code",
   "execution_count": null,
   "id": "e562354b",
   "metadata": {},
   "outputs": [],
   "source": [
    "#assign subject id to teacher id by given teacher name\n",
    "#take subject name first from csv \n",
    "import psycopg2\n",
    "import csv\n",
    "conn = psycopg2.connect(\"host='localhost' port='5432' dbname='postgres' user='postgres' password='SUMIran'\")\n",
    "cur = conn.cursor()\n",
    "data2 = dict()\n",
    "\n",
    "def subject_id():\n",
    "      \n",
    "    cur.execute(\"select * from teacher_data1\")\n",
    "    datum2 = cur.fetchall()\n",
    "    print(datum2)\n",
    "    for i in range (0 ,len(datum)):\n",
    "        data2[datum2[i][1]]= datum2[i][0]\n",
    "    print(data2)\n",
    "    with open('slot_table.csv', 'r') as f:\n",
    "        reader = csv.reader(f)\n",
    "        next(reader) # Skip the header row.\n",
    "        for row in reader:\n",
    "            print(row)\n",
    "            rown = row[0]\n",
    "            try:\n",
    "                data2[rown] = n\n",
    "            except:\n",
    "                pass\n",
    "            return n\n",
    "             \n",
    "subject_id(n)\n",
    "        \n",
    "        \n",
    "        \n",
    "#\n",
    "        \n",
    "        \n"
   ]
  },
  {
   "cell_type": "code",
   "execution_count": 7,
   "id": "8be835f7",
   "metadata": {},
   "outputs": [
    {
     "name": "stdout",
     "output_type": "stream",
     "text": [
      "[(1, 'Ronald Borland', '1'), (2, 'Aggie Dongate', '2'), (3, 'Adriano Caret', '3'), (4, 'Nathanil Tyson', '4'), (5, 'Kahlil Lomath', '5'), (6, 'Katina Milby', '6'), (19, 'Dov Houndson', '1'), (20, 'Carmine Farlane', '2'), (21, 'Albrecht McGregor', '3'), (22, 'Elinore Lille', '4'), (23, 'Robbie Wrathall', '5'), (24, 'Prinz Srawley', '6'), (25, 'Gillian Fearick', '1'), (7, 'Rodolfo De Giovanni', '2'), (9, 'Gannon Elph', '3'), (10, 'Genevieve Flaherty', '4'), (11, 'Wendeline Dikle', '5'), (12, 'Erina Towers', '6'), (13, 'Ronica Shuttle', '1'), (14, 'Ardeen Aspin', '2'), (15, 'Rudolph Buttle', '3'), (16, 'Dania Fittes', '4'), (17, 'Guinna Wornum', '5'), (18, 'Sayre Vonderdell', '6')]\n",
      "{'Ronald Borland': '1', 'Aggie Dongate': '2', 'Adriano Caret': '3', 'Nathanil Tyson': '4', 'Kahlil Lomath': '5', 'Katina Milby': '6', 'Dov Houndson': '1', 'Carmine Farlane': '2', 'Albrecht McGregor': '3', 'Elinore Lille': '4', 'Robbie Wrathall': '5', 'Prinz Srawley': '6', 'Gillian Fearick': '1', 'Rodolfo De Giovanni': '2', 'Gannon Elph': '3', 'Genevieve Flaherty': '4', 'Wendeline Dikle': '5', 'Erina Towers': '6', 'Ronica Shuttle': '1', 'Ardeen Aspin': '2', 'Rudolph Buttle': '3', 'Dania Fittes': '4', 'Guinna Wornum': '5', 'Sayre Vonderdell': '6'}\n",
      "{'Ronald Borland': 1, 'Aggie Dongate': 2, 'Adriano Caret': 3, 'Nathanil Tyson': 4, 'Kahlil Lomath': 5, 'Katina Milby': 6, 'Dov Houndson': 19, 'Carmine Farlane': 20, 'Albrecht McGregor': 21, 'Elinore Lille': 22, 'Robbie Wrathall': 23, 'Prinz Srawley': 24, 'Gillian Fearick': 25, 'Rodolfo De Giovanni': 7, 'Gannon Elph': 9, 'Genevieve Flaherty': 10, 'Wendeline Dikle': 11, 'Erina Towers': 12, 'Ronica Shuttle': 13, 'Ardeen Aspin': 14, 'Rudolph Buttle': 15, 'Dania Fittes': 16, 'Guinna Wornum': 17, 'Sayre Vonderdell': 18}\n",
      "Carmine Farlane\n"
     ]
    },
    {
     "ename": "NameError",
     "evalue": "name 'n' is not defined",
     "output_type": "error",
     "traceback": [
      "\u001b[1;31m---------------------------------------------------------------------------\u001b[0m",
      "\u001b[1;31mNameError\u001b[0m                                 Traceback (most recent call last)",
      "\u001b[1;32m<ipython-input-7-3e13c2ad9ab2>\u001b[0m in \u001b[0;36m<module>\u001b[1;34m\u001b[0m\n\u001b[0;32m     19\u001b[0m         \u001b[0mrown\u001b[0m \u001b[1;33m=\u001b[0m \u001b[0mrow\u001b[0m\u001b[1;33m[\u001b[0m\u001b[1;36m0\u001b[0m\u001b[1;33m]\u001b[0m\u001b[1;33m\u001b[0m\u001b[1;33m\u001b[0m\u001b[0m\n\u001b[0;32m     20\u001b[0m         \u001b[0mprint\u001b[0m\u001b[1;33m(\u001b[0m\u001b[0mrown\u001b[0m\u001b[1;33m)\u001b[0m\u001b[1;33m\u001b[0m\u001b[1;33m\u001b[0m\u001b[0m\n\u001b[1;32m---> 21\u001b[1;33m         \u001b[0mdata2\u001b[0m\u001b[1;33m[\u001b[0m\u001b[0mrown\u001b[0m\u001b[1;33m]\u001b[0m\u001b[1;33m=\u001b[0m\u001b[0mn\u001b[0m\u001b[1;33m\u001b[0m\u001b[1;33m\u001b[0m\u001b[0m\n\u001b[0m\u001b[0;32m     22\u001b[0m         \u001b[0mprint\u001b[0m\u001b[1;33m(\u001b[0m\u001b[0mn\u001b[0m\u001b[1;33m)\u001b[0m\u001b[1;33m\u001b[0m\u001b[1;33m\u001b[0m\u001b[0m\n\u001b[0;32m     23\u001b[0m         \u001b[0mdata3\u001b[0m\u001b[1;33m[\u001b[0m\u001b[0mrown\u001b[0m\u001b[1;33m]\u001b[0m\u001b[1;33m=\u001b[0m \u001b[0mm\u001b[0m\u001b[1;33m\u001b[0m\u001b[1;33m\u001b[0m\u001b[0m\n",
      "\u001b[1;31mNameError\u001b[0m: name 'n' is not defined"
     ]
    }
   ],
   "source": [
    "import psycopg2\n",
    "import csv\n",
    "conn = psycopg2.connect(\"host='localhost' port='5432' dbname='postgres' user='postgres' password='SUMIran'\")\n",
    "cur = conn.cursor()\n",
    "data2 = dict()\n",
    "data3=dict()\n",
    "cur.execute(\"select * from teacher_data1\")\n",
    "datum2 = cur.fetchall()\n",
    "print(datum2)\n",
    "for i in range (0 ,len(datum2)):\n",
    "    data2[datum2[i][1]]= datum2[i][2]\n",
    "    data3[datum2[i][1]]= datum2[i][0]\n",
    "print(data2)\n",
    "print(data3)\n",
    "with open('slot_table.csv', 'r') as f:\n",
    "    reader = csv.reader(f)\n",
    "    next(reader) # Skip the header row.\n",
    "    for row in reader:\n",
    "        rown = row[0]\n",
    "        print(rown)\n",
    "        data2[rown]=n\n",
    "        print(n)\n",
    "        data3[rown]= m\n",
    "        print(val)\n",
    "        \n"
   ]
  },
  {
   "cell_type": "code",
   "execution_count": null,
   "id": "972cc15c",
   "metadata": {},
   "outputs": [],
   "source": []
  }
 ],
 "metadata": {
  "kernelspec": {
   "display_name": "Python 3",
   "language": "python",
   "name": "python3"
  },
  "language_info": {
   "codemirror_mode": {
    "name": "ipython",
    "version": 3
   },
   "file_extension": ".py",
   "mimetype": "text/x-python",
   "name": "python",
   "nbconvert_exporter": "python",
   "pygments_lexer": "ipython3",
   "version": "3.8.5"
  }
 },
 "nbformat": 4,
 "nbformat_minor": 5
}
