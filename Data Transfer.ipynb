{
 "cells": [
  {
   "cell_type": "markdown",
   "id": "327b9ae3",
   "metadata": {},
   "source": [
    "Data transfer from csv to sql"
   ]
  },
  {
   "cell_type": "code",
   "execution_count": 10,
   "id": "2c222332",
   "metadata": {},
   "outputs": [],
   "source": [
    "import psycopg2\n",
    "import csv\n",
    "conn = psycopg2.connect(\"host='localhost' port='5432' dbname='sumiran' user='postgres' password='SUMIran'\")\n",
    "cur = conn.cursor()\n",
    "with open('student_datasheet.csv', 'r') as f:\n",
    "    reader = csv.reader(f)\n",
    "    next(reader) # Skip the header row.\n",
    "    \n",
    "    for row in reader: \n",
    "        try:\n",
    "        \n",
    "            cur.execute(\n",
    "            \"INSERT INTO student_data1 VALUES (%s, %s, %s, %s, %s)\",\n",
    "             row\n",
    "             )\n",
    "            \n",
    "        \n",
    "        except Exception as e :\n",
    "            print(e)\n",
    "            conn.rollback()\n",
    "            pass\n",
    "            #print('already')\n",
    "\n",
    "            \n",
    "        \n",
    "conn.commit()"
   ]
  },
  {
   "cell_type": "code",
   "execution_count": 6,
   "id": "4b5cc05a",
   "metadata": {},
   "outputs": [
    {
     "ename": "IndentationError",
     "evalue": "unindent does not match any outer indentation level (<tokenize>, line 5)",
     "output_type": "error",
     "traceback": [
      "\u001b[1;36m  File \u001b[1;32m\"<tokenize>\"\u001b[1;36m, line \u001b[1;32m5\u001b[0m\n\u001b[1;33m    data = []\u001b[0m\n\u001b[1;37m    ^\u001b[0m\n\u001b[1;31mIndentationError\u001b[0m\u001b[1;31m:\u001b[0m unindent does not match any outer indentation level\n"
     ]
    }
   ],
   "source": [
    "\n",
    "    \n",
    "        if(row[1]== data):\n",
    "            print('already exists')\n",
    "        else:\n",
    "             cur.execute(\"SELECT student_id FROM student_data1\")\n",
    "    data = []\n",
    "    data.append(cur.fetchall())\n",
    "    \n",
    "    print(data)\n",
    "    if((row[1],) == data):\n",
    "            print('already exists')\n",
    "    \n",
    "    else:\n",
    "        "
   ]
  },
  {
   "cell_type": "code",
   "execution_count": null,
   "id": "d9a84754",
   "metadata": {},
   "outputs": [],
   "source": []
  }
 ],
 "metadata": {
  "kernelspec": {
   "display_name": "Python 3",
   "language": "python",
   "name": "python3"
  },
  "language_info": {
   "codemirror_mode": {
    "name": "ipython",
    "version": 3
   },
   "file_extension": ".py",
   "mimetype": "text/x-python",
   "name": "python",
   "nbconvert_exporter": "python",
   "pygments_lexer": "ipython3",
   "version": "3.8.5"
  }
 },
 "nbformat": 4,
 "nbformat_minor": 5
}
